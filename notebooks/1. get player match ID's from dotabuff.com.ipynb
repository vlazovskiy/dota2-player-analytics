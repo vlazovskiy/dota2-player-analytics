{
 "cells": [
  {
   "cell_type": "code",
   "execution_count": 57,
   "metadata": {
    "collapsed": true
   },
   "outputs": [],
   "source": [
    "#Scrape match ID's from dotabuff.com, since developers' Web API\n",
    "#does not have the option to retrieve all of player's matches easily. \n",
    "import requests\n",
    "from bs4 import BeautifulSoup as bs\n",
    "import pickle\n",
    "\n",
    "player_ID = #Your player ID goes here\n",
    "match_ID_list = []\n",
    "page = 1\n",
    "\n",
    "url = \"https://www.dotabuff.com/players/{player_ID}/matches?enhance=overview&page={page}\"\n",
    "\n",
    "while True:\n",
    "    r   = requests.get(url.format(player_ID = player_ID, page=page), headers={'user-agent': 'Mozilla/5.0'})\n",
    "    html = r.text\n",
    "    my_soup = bs(html, 'html.parser')\n",
    "    \n",
    "    match_data_per_page = my_soup.find_all('td', class_ = \"cell-large\", attrs={'href'})\n",
    "    \n",
    "    for td in match_data_per_page:\n",
    "        for a in td.find_all('a'):\n",
    "            temp = a.get('href')\n",
    "            match_ID_list.append(int(temp[9:]))\n",
    "\n",
    "    if my_soup.find(class_=\"next\") is None:\n",
    "            break  \n",
    "            \n",
    "    page = page + 1\n",
    "\n",
    "#Save results on your computer           \n",
    "pickle_out = open(\"match_ID_list.pickle\",\"wb\")\n",
    "pickle.dump(match_ID_list, pickle_out)\n",
    "pickle_out.close()"
   ]
  }
 ],
 "metadata": {
  "kernelspec": {
   "display_name": "Python 3",
   "language": "python",
   "name": "python3"
  },
  "language_info": {
   "codemirror_mode": {
    "name": "ipython",
    "version": 3
   },
   "file_extension": ".py",
   "mimetype": "text/x-python",
   "name": "python",
   "nbconvert_exporter": "python",
   "pygments_lexer": "ipython3",
   "version": "3.5.4"
  }
 },
 "nbformat": 4,
 "nbformat_minor": 2
}
