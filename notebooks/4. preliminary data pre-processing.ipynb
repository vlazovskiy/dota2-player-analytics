{
 "cells": [
  {
   "cell_type": "code",
   "execution_count": 1,
   "metadata": {
    "collapsed": true
   },
   "outputs": [],
   "source": [
    "import pickle\n",
    "import pandas as pd\n",
    "import numpy as np\n",
    "from IPython.display import display\n",
    "pd.options.display.max_columns = None\n",
    "pd.options.display.max_rows = None\n",
    "\n",
    "pickle_in = open(\"match_dataframe.pickle\",\"rb\")\n",
    "match_dataframe = pickle.load(pickle_in)\n",
    "\n",
    "display(match_dataframe)\n",
    "\n",
    "#Convert timestamps into standard date format\n",
    "match_dataframe['Date'] = pd.to_datetime(match_dataframe.Date, unit = 's')\n",
    "\n",
    "#Delete LobbyName column, since it is simply a repeat of LobbyType column\n",
    "del match_dataframe['LobbyName']\n",
    "\n",
    "#Convert match duration from seconds to HH:MM:SS format\n",
    "match_dataframe['Duration'] = pd.to_timedelta(match_dataframe['Duration'], unit='s')\n",
    "\n",
    "#Check Lobby Types\n",
    "match_dataframe['LobbyType'].unique()\n",
    "\n",
    "#Remove all rows with LobbyType 4, since these are bot matches\n",
    "match_dataframe = match_dataframe[match_dataframe.LobbyType != 4]\n",
    "\n",
    "#Check Game Mode\n",
    "match_dataframe['GameMode'].unique()\n",
    "match_dataframe['GameMode'].value_counts()\n",
    "\n",
    "#Since this account does not have any ranked matches (Game Mode #22), there must be an error on the storing side. \n",
    "#So I am going to replace all values of 22 with 1.\n",
    "match_dataframe['GameMode'].replace(to_replace = 22, value = 1, inplace = True)\n",
    "\n",
    "#Remove all values that are not 1\n",
    "match_dataframe = match_dataframe[match_dataframe.GameMode == 1]\n",
    "\n",
    "#Now that I have a certain kind of matches which I want to analyze, I can just remove\n",
    "#LobbyType and GameMode columns from the dataframe\n",
    "del match_dataframe['LobbyType']\n",
    "del match_dataframe['GameMode']\n",
    "\n",
    "#Check Leaver Status column\n",
    "match_dataframe['LeaverStatus'].unique()\n",
    "match_dataframe['LeaverStatus'].value_counts()\n",
    "\n",
    "#Around 18% of the games have leavers, but since there is an equal chance of leavers being on either team,\n",
    "#I will ignore this statistics and keep these 18% of data in the dataframe.\n",
    "\n",
    "#Store the result            \n",
    "pickle_out = open(\"match_dataframe_processed.pickle\",\"wb\")\n",
    "pickle.dump(match_dataframe, pickle_out)\n",
    "pickle_out.close()"
   ]
  }
 ],
 "metadata": {
  "kernelspec": {
   "display_name": "Python 3",
   "language": "python",
   "name": "python3"
  },
  "language_info": {
   "codemirror_mode": {
    "name": "ipython",
    "version": 3
   },
   "file_extension": ".py",
   "mimetype": "text/x-python",
   "name": "python",
   "nbconvert_exporter": "python",
   "pygments_lexer": "ipython3",
   "version": "3.5.4"
  }
 },
 "nbformat": 4,
 "nbformat_minor": 2
}
