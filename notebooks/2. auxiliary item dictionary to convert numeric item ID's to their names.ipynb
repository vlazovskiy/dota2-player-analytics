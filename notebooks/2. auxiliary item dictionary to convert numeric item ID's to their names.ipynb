{
 "cells": [
  {
   "cell_type": "code",
   "execution_count": 1,
   "metadata": {
    "collapsed": true
   },
   "outputs": [],
   "source": [
    "import json\n",
    "import pickle\n",
    "\n",
    "#Working with the dictionary provided in https://github.com/joshuaduffy/dota2api\n",
    "with open('../../dota2api-master/dota2api/ref/items.json') as json_data_file:\n",
    "    item_ref = json.load(json_data_file)\n",
    "\n",
    "item_dictionary = {}\n",
    "x = 0\n",
    "\n",
    "for items in item_ref['items']:\n",
    "    item_dictionary[item_ref['items'][x]['id']] = item_ref['items'][x]['localized_name']\n",
    "    x = x + 1\n",
    "    \n",
    "#Delete seasonal cosmetic items\n",
    "del item_dictionary[1021]\n",
    "del item_dictionary[1022]\n",
    "del item_dictionary[1023]\n",
    "del item_dictionary[1024]\n",
    "del item_dictionary[1025]\n",
    "del item_dictionary[1026]\n",
    "del item_dictionary[1027]\n",
    "\n",
    "#Add \"none\" for items which are 0\n",
    "item_dictionary[0] = 'None'\n",
    "\n",
    "#Save the result on your computer           \n",
    "pickle_out = open(\"item_dictionary.pickle\",\"wb\")\n",
    "pickle.dump(item_dictionary, pickle_out)\n",
    "pickle_out.close()"
   ]
  }
 ],
 "metadata": {
  "kernelspec": {
   "display_name": "Python 3",
   "language": "python",
   "name": "python3"
  },
  "language_info": {
   "codemirror_mode": {
    "name": "ipython",
    "version": 3
   },
   "file_extension": ".py",
   "mimetype": "text/x-python",
   "name": "python",
   "nbconvert_exporter": "python",
   "pygments_lexer": "ipython3",
   "version": "3.5.4"
  }
 },
 "nbformat": 4,
 "nbformat_minor": 2
}
